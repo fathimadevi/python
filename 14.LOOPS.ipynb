{
 "cells": [
  {
   "cell_type": "markdown",
   "id": "e6a32baf-2710-4e11-a817-838ea810626a",
   "metadata": {},
   "source": [
    "# for loops"
   ]
  },
  {
   "cell_type": "code",
   "execution_count": 1,
   "id": "c571c981-c6c3-4237-a481-adec5eb40561",
   "metadata": {},
   "outputs": [
    {
     "name": "stdout",
     "output_type": "stream",
     "text": [
      "apple\n",
      "banana\n",
      "cherry\n"
     ]
    }
   ],
   "source": [
    "fruits = [\"apple\", \"banana\", \"cherry\"]\n",
    "for i in fruits:\n",
    "  print(i)"
   ]
  },
  {
   "cell_type": "code",
   "execution_count": 2,
   "id": "922ca14c-1de6-41ec-b6f5-b23c06d428fd",
   "metadata": {},
   "outputs": [
    {
     "name": "stdout",
     "output_type": "stream",
     "text": [
      "b\n",
      "a\n",
      "n\n",
      "a\n",
      "n\n",
      "a\n"
     ]
    }
   ],
   "source": [
    "a=\"banana\"\n",
    "for x in a:\n",
    "  print(x)"
   ]
  },
  {
   "cell_type": "code",
   "execution_count": 14,
   "id": "250e4012-68f1-490e-8d39-de614078fb25",
   "metadata": {},
   "outputs": [
    {
     "name": "stdout",
     "output_type": "stream",
     "text": [
      "1\n",
      "3\n",
      "545\n"
     ]
    }
   ],
   "source": [
    "l=[1,3,4,545]\n",
    "for i in l:\n",
    "    if i==4:\n",
    "        continue\n",
    "    print(i)"
   ]
  },
  {
   "cell_type": "code",
   "execution_count": 3,
   "id": "97ffb44d-aaa1-430a-b2bb-c79eb563182a",
   "metadata": {},
   "outputs": [
    {
     "name": "stdout",
     "output_type": "stream",
     "text": [
      "0\n",
      "1\n",
      "2\n",
      "3\n",
      "4\n",
      "5\n"
     ]
    }
   ],
   "source": [
    "for x in range(6):\n",
    "  print(x)"
   ]
  },
  {
   "cell_type": "code",
   "execution_count": null,
   "id": "9cc0b822-8db6-40d7-9c2e-39be8bb41b7b",
   "metadata": {},
   "outputs": [],
   "source": [
    "for x in range(2, 60):\n",
    "  print(x)"
   ]
  },
  {
   "cell_type": "code",
   "execution_count": null,
   "id": "17cb2f07-0ea2-4065-b3cf-e28b6ed70ff1",
   "metadata": {},
   "outputs": [],
   "source": [
    "for x in range(2, 30, 3):\n",
    "  print(x)"
   ]
  },
  {
   "cell_type": "code",
   "execution_count": 6,
   "id": "8faf7cd2-a581-4eba-a5c2-846a580a8f77",
   "metadata": {},
   "outputs": [],
   "source": [
    "for x in range(2, 30):\n",
    "    pass\n",
    " "
   ]
  },
  {
   "cell_type": "code",
   "execution_count": null,
   "id": "aebba62e-4022-4e7e-b56b-f7cc17661c4b",
   "metadata": {},
   "outputs": [],
   "source": []
  },
  {
   "cell_type": "code",
   "execution_count": 10,
   "id": "b1f128f5-6ec1-4722-995c-04b56f0a1c01",
   "metadata": {},
   "outputs": [
    {
     "name": "stdout",
     "output_type": "stream",
     "text": [
      "1\n",
      "2\n",
      "3\n"
     ]
    }
   ],
   "source": [
    "k=[1,2,3,5,8]\n",
    "for i in k:\n",
    "    if i==5:\n",
    "        break\n",
    "    print(i)"
   ]
  },
  {
   "cell_type": "code",
   "execution_count": null,
   "id": "205d21a9-6ae5-447a-a7f3-9efab1c0df74",
   "metadata": {},
   "outputs": [],
   "source": [
    "for x in range(2, 30, 3):\n",
    "  if x==8:\n",
    "        break\n",
    "  print(x)"
   ]
  },
  {
   "cell_type": "code",
   "execution_count": null,
   "id": "e7a72634-0845-477d-a758-61f2fba3e223",
   "metadata": {},
   "outputs": [],
   "source": [
    "for x in range(2, 30, 3):\n",
    "    pass\n",
    "    \n",
    "\n"
   ]
  },
  {
   "cell_type": "code",
   "execution_count": 19,
   "id": "349c05fa-c067-4f46-adea-9f10b3e12497",
   "metadata": {},
   "outputs": [
    {
     "name": "stdout",
     "output_type": "stream",
     "text": [
      "k\n",
      "k2\n",
      "j1\n"
     ]
    }
   ],
   "source": [
    "l={\"k\":1,\"k2\":3,\"j1\":7}\n",
    "for i in l.keys():\n",
    "    print(i)"
   ]
  },
  {
   "cell_type": "code",
   "execution_count": 22,
   "id": "72b80df5-9f69-4674-afa7-3b4f6849779b",
   "metadata": {},
   "outputs": [
    {
     "name": "stdout",
     "output_type": "stream",
     "text": [
      "hi\n",
      "1\n",
      "3\n",
      "3\n",
      "4\n",
      "6\n",
      "8\n",
      "9\n",
      "8\n",
      "7\n",
      "apple\n"
     ]
    }
   ],
   "source": [
    "l=(\"hi\",1,3,3,4,6,8,9,8,7,\"apple\",)\n",
    "for i in l:\n",
    "    print(i)"
   ]
  },
  {
   "cell_type": "markdown",
   "id": "da83e68f-9737-42f7-8999-9ddfcf91a2cf",
   "metadata": {},
   "source": [
    "# while loops"
   ]
  },
  {
   "cell_type": "code",
   "execution_count": 24,
   "id": "8a800f73-e146-45c3-8963-b2e6c18f8703",
   "metadata": {},
   "outputs": [
    {
     "name": "stdout",
     "output_type": "stream",
     "text": [
      "1\n",
      "2\n",
      "3\n",
      "4\n",
      "5\n",
      "6\n"
     ]
    }
   ],
   "source": [
    "i = 1\n",
    "\n",
    "while i <=7:\n",
    "  print(i)\n",
    "  i += 1\n"
   ]
  },
  {
   "cell_type": "code",
   "execution_count": 1,
   "id": "b516eb44-367b-441b-ad41-6d3d35c05c7c",
   "metadata": {},
   "outputs": [
    {
     "name": "stdout",
     "output_type": "stream",
     "text": [
      "1\n",
      "2\n",
      "4\n",
      "5\n",
      "6\n"
     ]
    }
   ],
   "source": [
    "i = 0\n",
    "while i < 6:\n",
    "  i += 1\n",
    "  if i == 3:\n",
    "    continue\n",
    "  print(i)\n",
    "\n"
   ]
  },
  {
   "cell_type": "code",
   "execution_count": null,
   "id": "233f05fa-96a6-4340-8263-2c2bce6667ba",
   "metadata": {},
   "outputs": [],
   "source": [
    "i = 1\n",
    "while i < 6:\n",
    "  print(i)\n",
    "  if i==3:\n",
    "      break\n",
    "  i += 1\n",
    "\n",
    "\n",
    "print(\"i is no longer less than 6\")"
   ]
  },
  {
   "cell_type": "code",
   "execution_count": null,
   "id": "9d89d996-9014-479b-b49d-961ae4d74ef4",
   "metadata": {},
   "outputs": [],
   "source": [
    "l=[0,9,8,7,6]\n",
    "m=l[0]\n",
    "for i in l :\n",
    "    if i<=m:\n",
    "        m=i\n",
    "print(m)"
   ]
  },
  {
   "cell_type": "code",
   "execution_count": 9,
   "id": "d4c16edf-331c-4e3c-ab04-ad54baa04a01",
   "metadata": {},
   "outputs": [
    {
     "name": "stdout",
     "output_type": "stream",
     "text": [
      "1     1\n",
      "1     2\n",
      "1     3\n",
      "1     4\n",
      "1     5\n",
      "2     1\n",
      "2     2\n",
      "2     3\n",
      "2     4\n",
      "2     5\n",
      "3     1\n",
      "3     2\n",
      "3     3\n",
      "3     4\n",
      "3     5\n",
      "4     1\n",
      "4     2\n",
      "4     3\n",
      "4     4\n",
      "4     5\n",
      "5     1\n",
      "5     2\n",
      "5     3\n",
      "5     4\n",
      "5     5\n"
     ]
    }
   ],
   "source": [
    "l=[1,2,3,4,5]\n",
    "for i in l:\n",
    "    for j in l:\n",
    "        print(i,\"   \",j)"
   ]
  },
  {
   "cell_type": "code",
   "execution_count": null,
   "id": "4d70a2e9-34c9-4827-af64-c5865073ea87",
   "metadata": {},
   "outputs": [],
   "source": []
  }
 ],
 "metadata": {
  "kernelspec": {
   "display_name": "Python 3 (ipykernel)",
   "language": "python",
   "name": "python3"
  },
  "language_info": {
   "codemirror_mode": {
    "name": "ipython",
    "version": 3
   },
   "file_extension": ".py",
   "mimetype": "text/x-python",
   "name": "python",
   "nbconvert_exporter": "python",
   "pygments_lexer": "ipython3",
   "version": "3.12.7"
  }
 },
 "nbformat": 4,
 "nbformat_minor": 5
}
